{
 "cells": [
  {
   "cell_type": "code",
   "execution_count": 1,
   "metadata": {
    "collapsed": true
   },
   "outputs": [],
   "source": [
    "import os\n",
    "import numpy as np\n",
    "import torch\n",
    "from torch import nn\n",
    "from torch.utils.data import Dataset, DataLoader, random_split\n",
    "from torch.optim import Adam\n",
    "from torchvision.transforms import Compose, Grayscale, Resize, ToTensor, Normalize\n",
    "from PIL import Image\n",
    "from torch.utils.tensorboard import SummaryWriter\n",
    "from tqdm import tqdm\n",
    "import matplotlib.pyplot as plt"
   ]
  },
  {
   "cell_type": "code",
   "execution_count": 2,
   "outputs": [],
   "source": [
    "class ImprovedAutoencoder(nn.Module):\n",
    "    def __init__(self, input_height, input_width):\n",
    "        super(ImprovedAutoencoder, self).__init__()\n",
    "\n",
    "        # Определяем размер после свёрточных слоёв\n",
    "        def conv_output_size(size, kernel_size=3, stride=2, padding=1):\n",
    "            return (size - kernel_size + 2 * padding) // stride + 1\n",
    "\n",
    "        h, w = input_height, input_width\n",
    "        h, w = conv_output_size(h), conv_output_size(w)  # 1-й слой\n",
    "        h, w = conv_output_size(h), conv_output_size(w)  # 2-й слой\n",
    "        h, w = conv_output_size(h), conv_output_size(w)  # 3-й слой\n",
    "\n",
    "        self.flattened_size = h * w * 128  # Выход из Encoder\n",
    "\n",
    "        # Encoder\n",
    "        self.encoder = nn.Sequential(\n",
    "            nn.Conv2d(1, 32, kernel_size=3, stride=2, padding=1),\n",
    "            nn.BatchNorm2d(32),\n",
    "            nn.ReLU(),\n",
    "            nn.Conv2d(32, 64, kernel_size=3, stride=2, padding=1),\n",
    "            nn.BatchNorm2d(64),\n",
    "            nn.ReLU(),\n",
    "            nn.Conv2d(64, 128, kernel_size=3, stride=2, padding=1),\n",
    "            nn.BatchNorm2d(128),\n",
    "            nn.ReLU(),\n",
    "            nn.Flatten(),\n",
    "        )\n",
    "\n",
    "        # Bottleneck\n",
    "        self.bottleneck = nn.Sequential(\n",
    "            nn.Linear(self.flattened_size, 64),\n",
    "            nn.ReLU(),\n",
    "            nn.Dropout(0.3),\n",
    "        )\n",
    "\n",
    "        # Decoder\n",
    "        self.decoder = nn.Sequential(\n",
    "            nn.Linear(64, self.flattened_size),\n",
    "            nn.Unflatten(1, (128, h, w)),\n",
    "            nn.ConvTranspose2d(128, 64, kernel_size=3, stride=2, padding=1, output_padding=1),\n",
    "            nn.BatchNorm2d(64),\n",
    "            nn.ReLU(),\n",
    "            nn.ConvTranspose2d(64, 32, kernel_size=3, stride=2, padding=1, output_padding=1),\n",
    "            nn.BatchNorm2d(32),\n",
    "            nn.ReLU(),\n",
    "            nn.ConvTranspose2d(32, 1, kernel_size=3, stride=2, padding=1, output_padding=1),\n",
    "            nn.Sigmoid(),\n",
    "        )\n",
    "\n",
    "    def forward(self, x):\n",
    "        x = self.encoder(x)\n",
    "        x = self.bottleneck(x)\n",
    "        x = self.decoder(x)\n",
    "        return x"
   ],
   "metadata": {
    "collapsed": false
   }
  },
  {
   "cell_type": "code",
   "execution_count": 3,
   "outputs": [],
   "source": [
    "class CustomDataset(Dataset):\n",
    "    def __init__(self, root_dir, transform=None):\n",
    "        self.root_dir = root_dir\n",
    "        self.transform = transform\n",
    "        self.image_paths = [\n",
    "            os.path.join(root_dir, fname)\n",
    "            for fname in os.listdir(root_dir)\n",
    "            if fname.lower().endswith(('.png', '.jpg', '.jpeg'))\n",
    "        ]\n",
    "\n",
    "    def __len__(self):\n",
    "        return len(self.image_paths)\n",
    "\n",
    "    def __getitem__(self, idx):\n",
    "        img_path = self.image_paths[idx]\n",
    "        image = Image.open(img_path).convert(\"L\")  # Преобразуем в черно-белое изображение\n",
    "        if self.transform:\n",
    "            image = self.transform(image)\n",
    "        return image"
   ],
   "metadata": {
    "collapsed": false
   }
  },
  {
   "cell_type": "code",
   "execution_count": 6,
   "outputs": [],
   "source": [
    "batch_size = 32\n",
    "learning_rate = 0.000252\n",
    "num_epochs = 10\n",
    "image_size = (128, 128)  # Размер входного изображения\n",
    "device = torch.device(\"cuda\" if torch.cuda.is_available() else \"cpu\")\n",
    "\n",
    "# TensorBoard writer\n",
    "writer = SummaryWriter(log_dir=\"logs/final_autoencoder\")\n",
    "\n",
    "# Загрузка данных\n",
    "data_dir = 'dataset/train'\n",
    "transform = Compose([\n",
    "    Grayscale(num_output_channels=1),\n",
    "    Resize(image_size),\n",
    "    ToTensor(),\n",
    "    Normalize(mean=[0.5], std=[0.5])\n",
    "])\n",
    "dataset = CustomDataset(data_dir, transform)"
   ],
   "metadata": {
    "collapsed": false
   }
  },
  {
   "cell_type": "code",
   "execution_count": 7,
   "outputs": [
    {
     "name": "stderr",
     "output_type": "stream",
     "text": [
      "/home/sus/Documents/ai_hub_itmo_image_hw1/venv/lib/python3.10/site-packages/torch/optim/lr_scheduler.py:62: UserWarning: The verbose parameter is deprecated. Please use get_last_lr() to access the learning rate.\n",
      "  warnings.warn(\n"
     ]
    }
   ],
   "source": [
    "train_size = int(0.9 * len(dataset))\n",
    "val_size = len(dataset) - train_size\n",
    "train_dataset, val_dataset = random_split(dataset, [train_size, val_size])\n",
    "\n",
    "train_loader = DataLoader(train_dataset, batch_size=batch_size, shuffle=True)\n",
    "val_loader = DataLoader(val_dataset, batch_size=1, shuffle=False)\n",
    "\n",
    "# Модель, оптимизатор, функция потерь\n",
    "model = ImprovedAutoencoder(input_height=image_size[0], input_width=image_size[1]).to(device)\n",
    "optimizer = Adam(model.parameters(), lr=learning_rate)\n",
    "criterion = torch.nn.MSELoss()\n",
    "scheduler = torch.optim.lr_scheduler.ReduceLROnPlateau(optimizer, mode='min', factor=0.5, patience=5, verbose=True)"
   ],
   "metadata": {
    "collapsed": false
   }
  },
  {
   "cell_type": "code",
   "execution_count": 8,
   "outputs": [
    {
     "name": "stderr",
     "output_type": "stream",
     "text": [
      "Epoch 1/10 - Training: 100%|██████████| 282/282 [00:05<00:00, 52.75it/s]\n",
      "Epoch 1/10 - Validation: 100%|██████████| 1000/1000 [00:01<00:00, 829.16it/s]\n"
     ]
    },
    {
     "name": "stdout",
     "output_type": "stream",
     "text": [
      "Epoch 1/10 - Train Loss: 0.044830, Val Loss: 0.018551\n"
     ]
    },
    {
     "name": "stderr",
     "output_type": "stream",
     "text": [
      "Epoch 2/10 - Training: 100%|██████████| 282/282 [00:04<00:00, 59.94it/s]\n",
      "Epoch 2/10 - Validation: 100%|██████████| 1000/1000 [00:01<00:00, 863.58it/s]\n"
     ]
    },
    {
     "name": "stdout",
     "output_type": "stream",
     "text": [
      "Epoch 2/10 - Train Loss: 0.013132, Val Loss: 0.010988\n"
     ]
    },
    {
     "name": "stderr",
     "output_type": "stream",
     "text": [
      "Epoch 3/10 - Training: 100%|██████████| 282/282 [00:04<00:00, 59.28it/s]\n",
      "Epoch 3/10 - Validation: 100%|██████████| 1000/1000 [00:01<00:00, 886.58it/s]\n"
     ]
    },
    {
     "name": "stdout",
     "output_type": "stream",
     "text": [
      "Epoch 3/10 - Train Loss: 0.009635, Val Loss: 0.009079\n"
     ]
    },
    {
     "name": "stderr",
     "output_type": "stream",
     "text": [
      "Epoch 4/10 - Training: 100%|██████████| 282/282 [00:04<00:00, 63.84it/s]\n",
      "Epoch 4/10 - Validation: 100%|██████████| 1000/1000 [00:01<00:00, 923.97it/s]\n"
     ]
    },
    {
     "name": "stdout",
     "output_type": "stream",
     "text": [
      "Epoch 4/10 - Train Loss: 0.008467, Val Loss: 0.008179\n"
     ]
    },
    {
     "name": "stderr",
     "output_type": "stream",
     "text": [
      "Epoch 5/10 - Training: 100%|██████████| 282/282 [00:04<00:00, 62.45it/s]\n",
      "Epoch 5/10 - Validation: 100%|██████████| 1000/1000 [00:01<00:00, 767.86it/s]\n"
     ]
    },
    {
     "name": "stdout",
     "output_type": "stream",
     "text": [
      "Epoch 5/10 - Train Loss: 0.007922, Val Loss: 0.007836\n"
     ]
    },
    {
     "name": "stderr",
     "output_type": "stream",
     "text": [
      "Epoch 6/10 - Training: 100%|██████████| 282/282 [00:03<00:00, 72.98it/s]\n",
      "Epoch 6/10 - Validation: 100%|██████████| 1000/1000 [00:01<00:00, 919.72it/s]\n"
     ]
    },
    {
     "name": "stdout",
     "output_type": "stream",
     "text": [
      "Epoch 6/10 - Train Loss: 0.007626, Val Loss: 0.007461\n"
     ]
    },
    {
     "name": "stderr",
     "output_type": "stream",
     "text": [
      "Epoch 7/10 - Training: 100%|██████████| 282/282 [00:04<00:00, 69.84it/s]\n",
      "Epoch 7/10 - Validation: 100%|██████████| 1000/1000 [00:01<00:00, 884.84it/s]\n"
     ]
    },
    {
     "name": "stdout",
     "output_type": "stream",
     "text": [
      "Epoch 7/10 - Train Loss: 0.007429, Val Loss: 0.007256\n"
     ]
    },
    {
     "name": "stderr",
     "output_type": "stream",
     "text": [
      "Epoch 8/10 - Training: 100%|██████████| 282/282 [00:03<00:00, 71.83it/s]\n",
      "Epoch 8/10 - Validation: 100%|██████████| 1000/1000 [00:01<00:00, 859.73it/s]\n"
     ]
    },
    {
     "name": "stdout",
     "output_type": "stream",
     "text": [
      "Epoch 8/10 - Train Loss: 0.007296, Val Loss: 0.007165\n"
     ]
    },
    {
     "name": "stderr",
     "output_type": "stream",
     "text": [
      "Epoch 9/10 - Training: 100%|██████████| 282/282 [00:04<00:00, 68.33it/s]\n",
      "Epoch 9/10 - Validation: 100%|██████████| 1000/1000 [00:01<00:00, 903.79it/s]\n"
     ]
    },
    {
     "name": "stdout",
     "output_type": "stream",
     "text": [
      "Epoch 9/10 - Train Loss: 0.007201, Val Loss: 0.007067\n"
     ]
    },
    {
     "name": "stderr",
     "output_type": "stream",
     "text": [
      "Epoch 10/10 - Training: 100%|██████████| 282/282 [00:03<00:00, 71.70it/s]\n",
      "Epoch 10/10 - Validation: 100%|██████████| 1000/1000 [00:01<00:00, 910.24it/s]\n"
     ]
    },
    {
     "name": "stdout",
     "output_type": "stream",
     "text": [
      "Epoch 10/10 - Train Loss: 0.007131, Val Loss: 0.007027\n"
     ]
    }
   ],
   "source": [
    "best_val_loss = float('inf')\n",
    "for epoch in range(num_epochs):\n",
    "    model.train()\n",
    "    train_loss = 0.0\n",
    "\n",
    "    for inputs in tqdm(train_loader, desc=f\"Epoch {epoch+1}/{num_epochs} - Training\"):\n",
    "        inputs = inputs.to(device)\n",
    "\n",
    "        # Forward pass\n",
    "        outputs = model(inputs)\n",
    "        loss = criterion(outputs, inputs)\n",
    "\n",
    "        # Backward pass\n",
    "        optimizer.zero_grad()\n",
    "        loss.backward()\n",
    "        optimizer.step()\n",
    "\n",
    "        train_loss += loss.item() * inputs.size(0)\n",
    "\n",
    "    train_loss /= len(train_loader.dataset)\n",
    "    writer.add_scalar(\"Loss/Train\", train_loss, epoch)\n",
    "\n",
    "    # Валидация\n",
    "    model.eval()\n",
    "    val_loss = 0.0\n",
    "    with torch.no_grad():\n",
    "        for inputs in tqdm(val_loader, desc=f\"Epoch {epoch+1}/{num_epochs} - Validation\"):\n",
    "            inputs = inputs.to(device)\n",
    "\n",
    "            # Forward pass\n",
    "            outputs = model(inputs)\n",
    "            loss = criterion(outputs, inputs)\n",
    "\n",
    "            val_loss += loss.item() * inputs.size(0)\n",
    "\n",
    "    val_loss /= len(val_loader.dataset)\n",
    "    writer.add_scalar(\"Loss/Validation\", val_loss, epoch)\n",
    "    scheduler.step(val_loss)\n",
    "\n",
    "    # Сохранение лучшей модели\n",
    "    if val_loss < best_val_loss:\n",
    "        best_val_loss = val_loss\n",
    "        torch.save(model.state_dict(), \"models/best_autoencoder.pth\")\n",
    "\n",
    "    print(f\"Epoch {epoch+1}/{num_epochs} - Train Loss: {train_loss:.6f}, Val Loss: {val_loss:.6f}\")\n",
    "\n",
    "writer.close()"
   ],
   "metadata": {
    "collapsed": false
   }
  },
  {
   "cell_type": "code",
   "execution_count": 9,
   "outputs": [],
   "source": [
    "from sklearn.metrics import roc_curve, auc, RocCurveDisplay\n",
    "import matplotlib.pyplot as plt\n",
    "\n",
    "def eval_model(model, loader):\n",
    "    model.eval()\n",
    "    losses = []\n",
    "    criterion = nn.MSELoss()\n",
    "\n",
    "    with torch.no_grad():\n",
    "        for inputs in loader:\n",
    "            inputs = inputs.to(device)\n",
    "            outputs = model(inputs)\n",
    "            loss = criterion(outputs, inputs).item()\n",
    "            losses.append(loss)\n",
    "\n",
    "    return np.array(losses)\n",
    "\n",
    "def compute_metrics(y_true, losses, threshold):\n",
    "    predictions = (losses >= threshold).astype(int)\n",
    "    tpr = np.sum((predictions == 1) & (y_true == 1)) / np.sum(y_true == 1)\n",
    "    tnr = np.sum((predictions == 0) & (y_true == 0)) / np.sum(y_true == 0)\n",
    "    roc_auc = auc(*roc_curve(y_true, losses)[:2])\n",
    "    return tpr, tnr, roc_auc\n",
    "\n",
    "def det_threshold(model, val_loader, proliv_loader, plot=True):\n",
    "    model.to(device)\n",
    "\n",
    "    val_losses = eval_model(model, val_loader)\n",
    "    proliv_losses = eval_model(model, proliv_loader)\n",
    "\n",
    "    y_true = np.hstack((np.zeros(len(val_losses)), np.ones(len(proliv_losses))))\n",
    "    losses = np.hstack((val_losses, proliv_losses))\n",
    "\n",
    "    fpr, tpr, thresholds = roc_curve(y_true, losses)\n",
    "    roc_auc = auc(fpr, tpr)\n",
    "\n",
    "    optimal_idx = np.argmax(tpr - fpr)\n",
    "    optimal_threshold = thresholds[optimal_idx]\n",
    "\n",
    "    if plot:\n",
    "        display = RocCurveDisplay(fpr=fpr, tpr=tpr, roc_auc=roc_auc)\n",
    "        display.plot()\n",
    "        plt.title(\"ROC Curve\")\n",
    "        plt.show()\n",
    "\n",
    "    tpr, tnr, roc_auc = compute_metrics(y_true, losses, optimal_threshold)\n",
    "    return optimal_threshold, tpr, tnr, roc_auc"
   ],
   "metadata": {
    "collapsed": false
   }
  },
  {
   "cell_type": "code",
   "execution_count": 10,
   "outputs": [
    {
     "data": {
      "text/plain": "<Figure size 640x480 with 1 Axes>",
      "image/png": "[encoded data removed]"
     },
     "metadata": {},
     "output_type": "display_data"
    },
    {
     "name": "stdout",
     "output_type": "stream",
     "text": [
      "Optimal Threshold: 0.01411605253815651\n",
      "True Positive Rate (TPR): 99.35%\n",
      "True Negative Rate (TNR): 91.90%\n",
      "ROC-AUC: 0.95\n"
     ]
    }
   ],
   "source": [
    "proliv_dir = 'dataset/proliv'\n",
    "\n",
    "proliv_dataset = CustomDataset(proliv_dir, transform)\n",
    "proliv_loader = DataLoader(proliv_dataset, batch_size=1, shuffle=False)\n",
    "\n",
    "optimal_threshold, tpr, tnr, roc_auc = det_threshold(model, val_loader, proliv_loader, plot=True)\n",
    "print(f\"Optimal Threshold: {optimal_threshold}\")\n",
    "print(f\"True Positive Rate (TPR): {tpr:.2%}\")\n",
    "print(f\"True Negative Rate (TNR): {tnr:.2%}\")\n",
    "print(f\"ROC-AUC: {roc_auc:.2f}\")"
   ],
   "metadata": {
    "collapsed": false
   }
  },
  {
   "cell_type": "code",
   "execution_count": 15,
   "outputs": [],
   "source": [
    "def classify_images(model, dataloader, device, threshold):\n",
    "    model.eval()\n",
    "    predictions = []\n",
    "    criterion = nn.MSELoss()\n",
    "\n",
    "    with torch.no_grad():\n",
    "        for inputs in tqdm(dataloader):\n",
    "            inputs = inputs.to(device)\n",
    "            outputs = model(inputs)\n",
    "            mse = criterion(outputs, inputs).item()\n",
    "\n",
    "            predictions.append(1 if mse >= threshold else 0)  # 1 — proliv, 0 — не_пролив\n",
    "    return predictions"
   ],
   "metadata": {
    "collapsed": false
   }
  },
  {
   "cell_type": "code",
   "execution_count": 16,
   "outputs": [],
   "source": [
    "def evaluate_model(predictions, annotations_path):\n",
    "    true_labels = []\n",
    "    with open(annotations_path, 'r') as f:\n",
    "        for line in f:\n",
    "            _, label = line.strip().split()\n",
    "            true_labels.append(int(label))\n",
    "\n",
    "    true_positive = sum((p == 1 and t == 1) for p, t in zip(predictions, true_labels))\n",
    "    true_negative = sum((p == 0 and t == 0) for p, t in zip(predictions, true_labels))\n",
    "    false_positive = sum((p == 1 and t == 0) for p, t in zip(predictions, true_labels))\n",
    "    false_negative = sum((p == 0 and t == 1) for p, t in zip(predictions, true_labels))\n",
    "\n",
    "    tpr = true_positive / (true_positive + false_negative)\n",
    "    tnr = true_negative / (true_negative + false_positive)\n",
    "\n",
    "    return tpr, tnr"
   ],
   "metadata": {
    "collapsed": false
   }
  },
  {
   "cell_type": "code",
   "execution_count": 17,
   "outputs": [
    {
     "name": "stderr",
     "output_type": "stream",
     "text": [
      "100%|██████████| 3794/3794 [00:04<00:00, 826.93it/s]"
     ]
    },
    {
     "name": "stdout",
     "output_type": "stream",
     "text": [
      "True Positive Rate (TPR): 31.78%\n",
      "True Negative Rate (TNR): 69.77%\n"
     ]
    },
    {
     "name": "stderr",
     "output_type": "stream",
     "text": [
      "\n"
     ]
    }
   ],
   "source": [
    "test_dir = 'dataset/test/imgs'\n",
    "annotations_path = 'dataset/test/test_annotation.txt'\n",
    "\n",
    "test_dataset = CustomDataset(test_dir, transform)\n",
    "test_loader = DataLoader(test_dataset, batch_size=1, shuffle=False)\n",
    "predictions = classify_images(model, test_loader, device, optimal_threshold)\n",
    "\n",
    "tpr, tnr = evaluate_model(predictions, annotations_path)\n",
    "print(f\"True Positive Rate (TPR): {tpr:.2%}\")\n",
    "print(f\"True Negative Rate (TNR): {tnr:.2%}\")\n"
   ],
   "metadata": {
    "collapsed": false
   }
  },
  {
   "cell_type": "code",
   "execution_count": null,
   "outputs": [],
   "source": [],
   "metadata": {
    "collapsed": false
   }
  }
 ],
 "metadata": {
  "kernelspec": {
   "display_name": "Python 3",
   "language": "python",
   "name": "python3"
  },
  "language_info": {
   "codemirror_mode": {
    "name": "ipython",
    "version": 2
   },
   "file_extension": ".py",
   "mimetype": "text/x-python",
   "name": "python",
   "nbconvert_exporter": "python",
   "pygments_lexer": "ipython2",
   "version": "2.7.6"
  }
 },
 "nbformat": 4,
 "nbformat_minor": 0
}
