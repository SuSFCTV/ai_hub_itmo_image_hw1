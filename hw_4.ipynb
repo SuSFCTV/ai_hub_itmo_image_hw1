{
 "nbformat": 4,
 "nbformat_minor": 0,
 "metadata": {
  "colab": {
   "provenance": []
  },
  "kernelspec": {
   "name": "python3",
   "display_name": "Python 3"
  },
  "language_info": {
   "name": "python"
  }
 },
 "cells": [
  {
   "cell_type": "code",
   "execution_count": 59,
   "metadata": {
    "id": "iqI12sHenWAj"
   },
   "outputs": [],
   "source": [
    "import torch\n",
    "import torch.nn as nn\n",
    "import torch.optim as optim\n",
    "import torchvision\n",
    "import torchvision.transforms as transforms\n",
    "from torchvision.models import resnet18\n",
    "from tqdm import tqdm\n",
    "from torch.utils.tensorboard import SummaryWriter\n",
    "import torch.nn.functional as F"
   ]
  },
  {
   "cell_type": "code",
   "source": [
    "def get_cifar10_loaders(batch_size=32):\n",
    "    transform = transforms.Compose([\n",
    "        transforms.ToTensor(),\n",
    "        transforms.Normalize((0.5, 0.5, 0.5), (0.5, 0.5, 0.5))\n",
    "    ])\n",
    "\n",
    "    trainset = torchvision.datasets.CIFAR10(root=\"./data\", train=True, download=True, transform=transform)\n",
    "    trainloader = torch.utils.data.DataLoader(trainset, batch_size=batch_size, shuffle=True, num_workers=2)\n",
    "\n",
    "    testset = torchvision.datasets.CIFAR10(root=\"./data\", train=False, download=True, transform=transform)\n",
    "    testloader = torch.utils.data.DataLoader(testset, batch_size=batch_size, shuffle=False, num_workers=2)\n",
    "\n",
    "    return trainloader, testloader"
   ],
   "metadata": {
    "id": "JJpmOGzRnayJ"
   },
   "execution_count": 2,
   "outputs": []
  },
  {
   "cell_type": "code",
   "source": [
    "class TeacherModel(nn.Module):\n",
    "    def __init__(self):\n",
    "        super(TeacherModel, self).__init__()\n",
    "        self.model = resnet18(pretrained=False, num_classes=10)\n",
    "\n",
    "    def forward(self, x):\n",
    "        return self.model(x)"
   ],
   "metadata": {
    "id": "FbnWTHP2ngF1"
   },
   "execution_count": 3,
   "outputs": []
  },
  {
   "cell_type": "code",
   "source": [
    "class StudentModel(nn.Module):\n",
    "    def __init__(self):\n",
    "        super(StudentModel, self).__init__()\n",
    "        self.conv1 = nn.Conv2d(3, 32, kernel_size=3, stride=1, padding=1)\n",
    "        self.conv2 = nn.Conv2d(32, 64, kernel_size=3, stride=1, padding=1)\n",
    "        self.fc1 = nn.Linear(64 * 8 * 8, 256)\n",
    "        self.fc2 = nn.Linear(256, 10)\n",
    "        self.pool = nn.MaxPool2d(2, 2)\n",
    "        self.relu = nn.ReLU()\n",
    "\n",
    "    def forward(self, x):\n",
    "        x = self.relu(self.pool(self.conv1(x)))\n",
    "        x = self.relu(self.pool(self.conv2(x)))\n",
    "        x = x.view(x.size(0), -1)\n",
    "        x = self.relu(self.fc1(x))\n",
    "        x = self.fc2(x)\n",
    "        return x"
   ],
   "metadata": {
    "id": "nScE2H_anlMb"
   },
   "execution_count": 4,
   "outputs": []
  },
  {
   "cell_type": "code",
   "source": [
    "def train_model(model, trainloader, criterion, optimizer, device, epochs=10):\n",
    "    model.train()\n",
    "    for epoch in tqdm(range(epochs)):\n",
    "        running_loss = 0.0\n",
    "        for inputs, labels in trainloader:\n",
    "            inputs, labels = inputs.to(device), labels.to(device)\n",
    "            optimizer.zero_grad()\n",
    "            outputs = model(inputs)\n",
    "\n",
    "            loss = criterion(outputs, labels)\n",
    "\n",
    "            loss.backward()\n",
    "            optimizer.step()\n",
    "\n",
    "            running_loss += loss.item()\n",
    "\n",
    "        print(f\"Epoch {epoch + 1}/{epochs}, Loss: {running_loss / len(trainloader):.4f}\")"
   ],
   "metadata": {
    "id": "3j-nlnI0nnkZ"
   },
   "execution_count": 5,
   "outputs": []
  },
  {
   "cell_type": "code",
   "source": [
    "def evaluate_model(model, testloader, device):\n",
    "    model.eval()\n",
    "    correct = 0\n",
    "    total = 0\n",
    "    with torch.no_grad():\n",
    "        for inputs, labels in testloader:\n",
    "            inputs, labels = inputs.to(device), labels.to(device)\n",
    "            outputs = model(inputs)\n",
    "            _, predicted = torch.max(outputs, 1)\n",
    "            total += labels.size(0)\n",
    "            correct += (predicted == labels).sum().item()\n",
    "\n",
    "    print(f\"Accuracy: {100 * correct / total:.2f}%\")"
   ],
   "metadata": {
    "id": "JS7yqm77nrxv"
   },
   "execution_count": 6,
   "outputs": []
  },
  {
   "cell_type": "code",
   "source": [
    "device = torch.device(\"cuda\" if torch.cuda.is_available() else \"cpu\")"
   ],
   "metadata": {
    "id": "y-cIa5rqnuQu"
   },
   "execution_count": 7,
   "outputs": []
  },
  {
   "cell_type": "code",
   "source": [
    "trainloader, testloader = get_cifar10_loaders()"
   ],
   "metadata": {
    "colab": {
     "base_uri": "https://localhost:8080/"
    },
    "id": "wQH84zRmnx0l",
    "outputId": "9c1193f1-7965-44a7-b16e-d1edee2433e5"
   },
   "execution_count": 8,
   "outputs": [
    {
     "name": "stdout",
     "output_type": "stream",
     "text": [
      "Downloading https://www.cs.toronto.edu/~kriz/cifar-10-python.tar.gz to ./data/cifar-10-python.tar.gz\n"
     ]
    },
    {
     "name": "stderr",
     "output_type": "stream",
     "text": [
      "100%|██████████| 170M/170M [00:08<00:00, 20.7MB/s] \n"
     ]
    },
    {
     "name": "stdout",
     "output_type": "stream",
     "text": [
      "Extracting ./data/cifar-10-python.tar.gz to ./data\n",
      "Files already downloaded and verified\n"
     ]
    }
   ]
  },
  {
   "cell_type": "code",
   "source": [
    "teacher = TeacherModel().to(device)\n",
    "teacher_criterion = nn.CrossEntropyLoss()\n",
    "teacher_optimizer = optim.Adam(teacher.parameters(), lr=0.001)"
   ],
   "metadata": {
    "colab": {
     "base_uri": "https://localhost:8080/"
    },
    "id": "_Ouaa-MznzzN",
    "outputId": "9805aaee-1afb-4d65-dea9-c0bbeec88120"
   },
   "execution_count": 9,
   "outputs": [
    {
     "name": "stderr",
     "output_type": "stream",
     "text": [
      "/home/sus/Documents/ai_hub_itmo_image_hw1/venv/lib/python3.10/site-packages/torchvision/models/_utils.py:208: UserWarning: The parameter 'pretrained' is deprecated since 0.13 and may be removed in the future, please use 'weights' instead.\n",
      "  warnings.warn(\n",
      "/home/sus/Documents/ai_hub_itmo_image_hw1/venv/lib/python3.10/site-packages/torchvision/models/_utils.py:223: UserWarning: Arguments other than a weight enum or `None` for 'weights' are deprecated since 0.13 and may be removed in the future. The current behavior is equivalent to passing `weights=None`.\n",
      "  warnings.warn(msg)\n"
     ]
    }
   ]
  },
  {
   "cell_type": "code",
   "source": [
    "print(\"Training Teacher Model...\")\n",
    "train_model(teacher, trainloader, teacher_criterion, teacher_optimizer, device, epochs=10)\n",
    "evaluate_model(teacher, testloader, device)"
   ],
   "metadata": {
    "colab": {
     "base_uri": "https://localhost:8080/",
     "height": 356
    },
    "id": "ub0xi5SWn21K",
    "outputId": "71ccce6a-39c4-4b4b-ae67-455953321d84"
   },
   "execution_count": 10,
   "outputs": [
    {
     "name": "stdout",
     "output_type": "stream",
     "text": [
      "Training Teacher Model...\n"
     ]
    },
    {
     "name": "stderr",
     "output_type": "stream",
     "text": [
      " 10%|█         | 1/10 [00:13<02:00, 13.43s/it]"
     ]
    },
    {
     "name": "stdout",
     "output_type": "stream",
     "text": [
      "Epoch 1/10, Loss: 1.4173\n"
     ]
    },
    {
     "name": "stderr",
     "output_type": "stream",
     "text": [
      " 20%|██        | 2/10 [00:26<01:45, 13.16s/it]"
     ]
    },
    {
     "name": "stdout",
     "output_type": "stream",
     "text": [
      "Epoch 2/10, Loss: 1.0160\n"
     ]
    },
    {
     "name": "stderr",
     "output_type": "stream",
     "text": [
      " 30%|███       | 3/10 [00:39<01:32, 13.18s/it]"
     ]
    },
    {
     "name": "stdout",
     "output_type": "stream",
     "text": [
      "Epoch 3/10, Loss: 0.8426\n"
     ]
    },
    {
     "name": "stderr",
     "output_type": "stream",
     "text": [
      " 40%|████      | 4/10 [00:53<01:20, 13.33s/it]"
     ]
    },
    {
     "name": "stdout",
     "output_type": "stream",
     "text": [
      "Epoch 4/10, Loss: 0.7112\n"
     ]
    },
    {
     "name": "stderr",
     "output_type": "stream",
     "text": [
      " 50%|█████     | 5/10 [01:06<01:06, 13.30s/it]"
     ]
    },
    {
     "name": "stdout",
     "output_type": "stream",
     "text": [
      "Epoch 5/10, Loss: 0.6066\n"
     ]
    },
    {
     "name": "stderr",
     "output_type": "stream",
     "text": [
      " 60%|██████    | 6/10 [01:18<00:52, 13.00s/it]"
     ]
    },
    {
     "name": "stdout",
     "output_type": "stream",
     "text": [
      "Epoch 6/10, Loss: 0.5054\n"
     ]
    },
    {
     "name": "stderr",
     "output_type": "stream",
     "text": [
      " 70%|███████   | 7/10 [01:32<00:39, 13.06s/it]"
     ]
    },
    {
     "name": "stdout",
     "output_type": "stream",
     "text": [
      "Epoch 7/10, Loss: 0.4159\n"
     ]
    },
    {
     "name": "stderr",
     "output_type": "stream",
     "text": [
      " 80%|████████  | 8/10 [01:44<00:25, 12.89s/it]"
     ]
    },
    {
     "name": "stdout",
     "output_type": "stream",
     "text": [
      "Epoch 8/10, Loss: 0.3360\n"
     ]
    },
    {
     "name": "stderr",
     "output_type": "stream",
     "text": [
      " 90%|█████████ | 9/10 [01:57<00:12, 12.85s/it]"
     ]
    },
    {
     "name": "stdout",
     "output_type": "stream",
     "text": [
      "Epoch 9/10, Loss: 0.2682\n"
     ]
    },
    {
     "name": "stderr",
     "output_type": "stream",
     "text": [
      "100%|██████████| 10/10 [02:10<00:00, 13.04s/it]"
     ]
    },
    {
     "name": "stdout",
     "output_type": "stream",
     "text": [
      "Epoch 10/10, Loss: 0.2206\n"
     ]
    },
    {
     "name": "stderr",
     "output_type": "stream",
     "text": [
      "\n"
     ]
    },
    {
     "name": "stdout",
     "output_type": "stream",
     "text": [
      "Accuracy: 76.93%\n"
     ]
    }
   ]
  },
  {
   "cell_type": "code",
   "source": [
    "student = StudentModel().to(device)\n",
    "student_criterion = nn.CrossEntropyLoss()\n",
    "student_optimizer = optim.Adam(student.parameters(), lr=0.001)"
   ],
   "metadata": {
    "id": "LAvQG6L1n-M-"
   },
   "execution_count": 11,
   "outputs": []
  },
  {
   "cell_type": "code",
   "source": [
    "print(\"Training Student Model...\")\n",
    "train_model(student, trainloader, student_criterion, student_optimizer, device, epochs=10)\n",
    "evaluate_model(student, testloader, device)"
   ],
   "metadata": {
    "id": "tqvOyhD3oCfK"
   },
   "execution_count": 12,
   "outputs": [
    {
     "name": "stdout",
     "output_type": "stream",
     "text": [
      "Training Student Model...\n"
     ]
    },
    {
     "name": "stderr",
     "output_type": "stream",
     "text": [
      " 10%|█         | 1/10 [00:03<00:33,  3.69s/it]"
     ]
    },
    {
     "name": "stdout",
     "output_type": "stream",
     "text": [
      "Epoch 1/10, Loss: 1.2461\n"
     ]
    },
    {
     "name": "stderr",
     "output_type": "stream",
     "text": [
      " 20%|██        | 2/10 [00:07<00:29,  3.67s/it]"
     ]
    },
    {
     "name": "stdout",
     "output_type": "stream",
     "text": [
      "Epoch 2/10, Loss: 0.8599\n"
     ]
    },
    {
     "name": "stderr",
     "output_type": "stream",
     "text": [
      " 30%|███       | 3/10 [00:11<00:25,  3.70s/it]"
     ]
    },
    {
     "name": "stdout",
     "output_type": "stream",
     "text": [
      "Epoch 3/10, Loss: 0.6841\n"
     ]
    },
    {
     "name": "stderr",
     "output_type": "stream",
     "text": [
      " 40%|████      | 4/10 [00:14<00:22,  3.67s/it]"
     ]
    },
    {
     "name": "stdout",
     "output_type": "stream",
     "text": [
      "Epoch 4/10, Loss: 0.5381\n"
     ]
    },
    {
     "name": "stderr",
     "output_type": "stream",
     "text": [
      " 50%|█████     | 5/10 [00:18<00:18,  3.72s/it]"
     ]
    },
    {
     "name": "stdout",
     "output_type": "stream",
     "text": [
      "Epoch 5/10, Loss: 0.4088\n"
     ]
    },
    {
     "name": "stderr",
     "output_type": "stream",
     "text": [
      " 60%|██████    | 6/10 [00:22<00:14,  3.70s/it]"
     ]
    },
    {
     "name": "stdout",
     "output_type": "stream",
     "text": [
      "Epoch 6/10, Loss: 0.2945\n"
     ]
    },
    {
     "name": "stderr",
     "output_type": "stream",
     "text": [
      " 70%|███████   | 7/10 [00:25<00:11,  3.69s/it]"
     ]
    },
    {
     "name": "stdout",
     "output_type": "stream",
     "text": [
      "Epoch 7/10, Loss: 0.2055\n"
     ]
    },
    {
     "name": "stderr",
     "output_type": "stream",
     "text": [
      " 80%|████████  | 8/10 [00:29<00:07,  3.77s/it]"
     ]
    },
    {
     "name": "stdout",
     "output_type": "stream",
     "text": [
      "Epoch 8/10, Loss: 0.1514\n"
     ]
    },
    {
     "name": "stderr",
     "output_type": "stream",
     "text": [
      " 90%|█████████ | 9/10 [00:33<00:03,  3.88s/it]"
     ]
    },
    {
     "name": "stdout",
     "output_type": "stream",
     "text": [
      "Epoch 9/10, Loss: 0.1208\n"
     ]
    },
    {
     "name": "stderr",
     "output_type": "stream",
     "text": [
      "100%|██████████| 10/10 [00:37<00:00,  3.77s/it]"
     ]
    },
    {
     "name": "stdout",
     "output_type": "stream",
     "text": [
      "Epoch 10/10, Loss: 0.0965\n"
     ]
    },
    {
     "name": "stderr",
     "output_type": "stream",
     "text": [
      "\n"
     ]
    },
    {
     "name": "stdout",
     "output_type": "stream",
     "text": [
      "Accuracy: 70.80%\n"
     ]
    }
   ]
  },
  {
   "cell_type": "markdown",
   "source": [
    "# ЭКСПЕРИМЕНТ 1"
   ],
   "metadata": {
    "id": "ss7kr5stpQF5"
   }
  },
  {
   "cell_type": "code",
   "source": [
    "def evaluate_model(student, dataloader, criterion, device):\n",
    "    student.eval()\n",
    "    total_loss = 0.0\n",
    "    correct = 0\n",
    "    total = 0\n",
    "\n",
    "    with torch.no_grad():\n",
    "        for inputs, labels in dataloader:\n",
    "            inputs, labels = inputs.to(device), labels.to(device)\n",
    "            outputs = student(inputs)\n",
    "\n",
    "            loss = criterion(outputs, labels)\n",
    "            total_loss += loss.item()\n",
    "\n",
    "            _, predicted = torch.max(outputs, 1)\n",
    "            correct += (predicted == labels).sum().item()\n",
    "            total += labels.size(0)\n",
    "\n",
    "    avg_loss = total_loss / len(dataloader)\n",
    "    accuracy = correct / total\n",
    "    return avg_loss, accuracy\n",
    "\n",
    "\n",
    "def train_with_logits_distillation(\n",
    "    teacher, student, trainloader, testloader, criterion, distillation_loss,\n",
    "    optimizer, device, alpha=0.5, temperature=3.0, epochs=10, log_dir=\"./runs/exp1\"\n",
    "):\n",
    "    writer = SummaryWriter(log_dir)\n",
    "    teacher.eval()\n",
    "\n",
    "    for epoch in range(epochs):\n",
    "        student.train()\n",
    "        running_loss = 0.0\n",
    "\n",
    "        for inputs, labels in trainloader:\n",
    "            inputs, labels = inputs.to(device), labels.to(device)\n",
    "\n",
    "            with torch.no_grad():\n",
    "                teacher_logits = teacher(inputs)\n",
    "\n",
    "            student_logits = student(inputs)\n",
    "\n",
    "            ce_loss = criterion(student_logits, labels)\n",
    "\n",
    "            distill_loss = distillation_loss(\n",
    "                F.log_softmax(student_logits / temperature, dim=1),\n",
    "                F.softmax(teacher_logits / temperature, dim=1)\n",
    "            ) * (temperature ** 2)\n",
    "\n",
    "            loss = alpha * ce_loss + (1 - alpha) * distill_loss\n",
    "\n",
    "            optimizer.zero_grad()\n",
    "            loss.backward()\n",
    "            optimizer.step()\n",
    "\n",
    "            running_loss += loss.item()\n",
    "\n",
    "        avg_train_loss = running_loss / len(trainloader)\n",
    "\n",
    "        val_loss, val_accuracy = evaluate_model(student, testloader, criterion, device)\n",
    "\n",
    "        writer.add_scalar(\"Loss/Train\", avg_train_loss, epoch)\n",
    "        writer.add_scalar(\"Loss/Validation\", val_loss, epoch)\n",
    "        writer.add_scalar(\"Accuracy/Validation\", val_accuracy, epoch)\n",
    "\n",
    "        print(\n",
    "            f\"Epoch {epoch + 1}/{epochs}, Train Loss: {avg_train_loss:.4f}, \"\n",
    "            f\"Validation Loss: {val_loss:.4f}, Validation Accuracy: {val_accuracy:.4f}\"\n",
    "        )\n",
    "\n",
    "    writer.close()"
   ],
   "metadata": {
    "id": "acIsMrgWoGVK"
   },
   "execution_count": 50,
   "outputs": []
  },
  {
   "cell_type": "code",
   "execution_count": 51,
   "outputs": [
    {
     "name": "stderr",
     "output_type": "stream",
     "text": [
      "/home/sus/Documents/ai_hub_itmo_image_hw1/venv/lib/python3.10/site-packages/torchvision/models/_utils.py:208: UserWarning: The parameter 'pretrained' is deprecated since 0.13 and may be removed in the future, please use 'weights' instead.\n",
      "  warnings.warn(\n",
      "/home/sus/Documents/ai_hub_itmo_image_hw1/venv/lib/python3.10/site-packages/torchvision/models/_utils.py:223: UserWarning: Arguments other than a weight enum or `None` for 'weights' are deprecated since 0.13 and may be removed in the future. The current behavior is equivalent to passing `weights=None`.\n",
      "  warnings.warn(msg)\n"
     ]
    },
    {
     "name": "stdout",
     "output_type": "stream",
     "text": [
      "Training Teacher Model...\n"
     ]
    },
    {
     "name": "stderr",
     "output_type": "stream",
     "text": [
      " 10%|█         | 1/10 [00:13<02:04, 13.79s/it]"
     ]
    },
    {
     "name": "stdout",
     "output_type": "stream",
     "text": [
      "Epoch 1/10, Loss: 1.4187\n"
     ]
    },
    {
     "name": "stderr",
     "output_type": "stream",
     "text": [
      " 20%|██        | 2/10 [00:26<01:46, 13.35s/it]"
     ]
    },
    {
     "name": "stdout",
     "output_type": "stream",
     "text": [
      "Epoch 2/10, Loss: 1.0187\n"
     ]
    },
    {
     "name": "stderr",
     "output_type": "stream",
     "text": [
      " 30%|███       | 3/10 [00:39<01:30, 12.97s/it]"
     ]
    },
    {
     "name": "stdout",
     "output_type": "stream",
     "text": [
      "Epoch 3/10, Loss: 0.8352\n"
     ]
    },
    {
     "name": "stderr",
     "output_type": "stream",
     "text": [
      " 40%|████      | 4/10 [00:52<01:18, 13.03s/it]"
     ]
    },
    {
     "name": "stdout",
     "output_type": "stream",
     "text": [
      "Epoch 4/10, Loss: 0.7088\n"
     ]
    },
    {
     "name": "stderr",
     "output_type": "stream",
     "text": [
      " 50%|█████     | 5/10 [01:04<01:04, 12.82s/it]"
     ]
    },
    {
     "name": "stdout",
     "output_type": "stream",
     "text": [
      "Epoch 5/10, Loss: 0.6043\n"
     ]
    },
    {
     "name": "stderr",
     "output_type": "stream",
     "text": [
      " 60%|██████    | 6/10 [01:17<00:50, 12.59s/it]"
     ]
    },
    {
     "name": "stdout",
     "output_type": "stream",
     "text": [
      "Epoch 6/10, Loss: 0.4964\n"
     ]
    },
    {
     "name": "stderr",
     "output_type": "stream",
     "text": [
      " 70%|███████   | 7/10 [01:29<00:37, 12.61s/it]"
     ]
    },
    {
     "name": "stdout",
     "output_type": "stream",
     "text": [
      "Epoch 7/10, Loss: 0.4159\n"
     ]
    },
    {
     "name": "stderr",
     "output_type": "stream",
     "text": [
      " 80%|████████  | 8/10 [01:42<00:25, 12.62s/it]"
     ]
    },
    {
     "name": "stdout",
     "output_type": "stream",
     "text": [
      "Epoch 8/10, Loss: 0.3348\n"
     ]
    },
    {
     "name": "stderr",
     "output_type": "stream",
     "text": [
      " 90%|█████████ | 9/10 [01:54<00:12, 12.55s/it]"
     ]
    },
    {
     "name": "stdout",
     "output_type": "stream",
     "text": [
      "Epoch 9/10, Loss: 0.2731\n"
     ]
    },
    {
     "name": "stderr",
     "output_type": "stream",
     "text": [
      "100%|██████████| 10/10 [02:07<00:00, 12.77s/it]"
     ]
    },
    {
     "name": "stdout",
     "output_type": "stream",
     "text": [
      "Epoch 10/10, Loss: 0.2130\n"
     ]
    },
    {
     "name": "stderr",
     "output_type": "stream",
     "text": [
      "\n"
     ]
    }
   ],
   "source": [
    "teacher = TeacherModel().to(device)\n",
    "student = StudentModel().to(device)\n",
    "\n",
    "teacher_criterion = nn.CrossEntropyLoss()\n",
    "teacher_optimizer = optim.Adam(teacher.parameters(), lr=0.001)\n",
    "print(\"Training Teacher Model...\")\n",
    "train_model(teacher, trainloader, teacher_criterion, teacher_optimizer, device, epochs=10)"
   ],
   "metadata": {
    "collapsed": false
   }
  },
  {
   "cell_type": "code",
   "source": [
    "distillation_criterion = nn.KLDivLoss(reduction=\"batchmean\")\n",
    "student_criterion = nn.CrossEntropyLoss()\n",
    "student_optimizer = optim.Adam(student.parameters(), lr=0.001)\n",
    "\n",
    "print(\"Training Student Model with Logits Distillation...\")\n",
    "train_with_logits_distillation(\n",
    "    teacher, student, trainloader, testloader, student_criterion, distillation_criterion, student_optimizer, device,\n",
    "    alpha=0.5, temperature=3.0, epochs=10\n",
    ")"
   ],
   "metadata": {
    "id": "bjmN9z3npPUL"
   },
   "execution_count": 52,
   "outputs": [
    {
     "name": "stdout",
     "output_type": "stream",
     "text": [
      "Training Student Model with Logits Distillation...\n",
      "Epoch 1/10, Train Loss: 3.1193, Validation Loss: 1.2127, Validation Accuracy: 0.6292\n",
      "Epoch 2/10, Train Loss: 1.9827, Validation Loss: 0.9717, Validation Accuracy: 0.7031\n",
      "Epoch 3/10, Train Loss: 1.5607, Validation Loss: 0.8542, Validation Accuracy: 0.7274\n",
      "Epoch 4/10, Train Loss: 1.2500, Validation Loss: 0.8345, Validation Accuracy: 0.7371\n",
      "Epoch 5/10, Train Loss: 1.0299, Validation Loss: 0.8844, Validation Accuracy: 0.7430\n",
      "Epoch 6/10, Train Loss: 0.8537, Validation Loss: 0.8618, Validation Accuracy: 0.7552\n",
      "Epoch 7/10, Train Loss: 0.7228, Validation Loss: 0.8812, Validation Accuracy: 0.7462\n",
      "Epoch 8/10, Train Loss: 0.6169, Validation Loss: 0.8595, Validation Accuracy: 0.7523\n",
      "Epoch 9/10, Train Loss: 0.5383, Validation Loss: 0.8912, Validation Accuracy: 0.7447\n",
      "Epoch 10/10, Train Loss: 0.4817, Validation Loss: 0.8782, Validation Accuracy: 0.7521\n"
     ]
    }
   ]
  },
  {
   "cell_type": "markdown",
   "source": [
    "# ЭКСПЕРИМЕНТ 2"
   ],
   "metadata": {
    "id": "C-lXGyLGp0JG"
   }
  },
  {
   "cell_type": "code",
   "source": [
    "def train_with_cosine_loss(teacher, student, trainloader, criterion, cosine_loss, optimizer, device, epochs=10, log_dir=\"./runs/exp2\"):\n",
    "    writer = SummaryWriter(log_dir)\n",
    "    teacher.eval()\n",
    "\n",
    "    teacher_projection = nn.Linear(512, 128).to(device)\n",
    "    student_projection = nn.Linear(64, 128).to(device)\n",
    "\n",
    "    for epoch in range(epochs):\n",
    "        student.train()\n",
    "        running_loss = 0.0\n",
    "\n",
    "        for inputs, labels in trainloader:\n",
    "            inputs, labels = inputs.to(device), labels.to(device)\n",
    "\n",
    "            with torch.no_grad():\n",
    "                teacher_features = teacher.model.layer4(\n",
    "                    teacher.model.layer3(\n",
    "                        teacher.model.layer2(\n",
    "                            teacher.model.layer1(\n",
    "                                teacher.model.conv1(inputs)\n",
    "                            )\n",
    "                        )\n",
    "                    )\n",
    "                )\n",
    "                teacher_features = nn.AdaptiveAvgPool2d((1, 1))(teacher_features).view(inputs.size(0), -1)\n",
    "                teacher_features = teacher_projection(teacher_features)\n",
    "\n",
    "            student_features = student.relu(student.pool(student.conv2(\n",
    "                student.relu(student.pool(student.conv1(inputs)))\n",
    "            )))\n",
    "            student_features = nn.AdaptiveAvgPool2d((1, 1))(student_features).view(inputs.size(0), -1)\n",
    "            student_features = student_projection(student_features)\n",
    "\n",
    "            cosine_targets = torch.ones(teacher_features.size(0)).to(device)\n",
    "            hidden_loss = cosine_loss(student_features, teacher_features, cosine_targets)\n",
    "\n",
    "            ce_loss = criterion(student(inputs), labels)\n",
    "\n",
    "            loss = ce_loss + hidden_loss\n",
    "\n",
    "            optimizer.zero_grad()\n",
    "            loss.backward()\n",
    "            optimizer.step()\n",
    "\n",
    "            running_loss += loss.item()\n",
    "\n",
    "        avg_train_loss = running_loss / len(trainloader)\n",
    "\n",
    "        val_loss, val_accuracy = evaluate_model(student, testloader, criterion, device)\n",
    "\n",
    "        writer.add_scalar(\"Loss/Train\", avg_train_loss, epoch)\n",
    "        writer.add_scalar(\"Loss/Validation\", val_loss, epoch)\n",
    "        writer.add_scalar(\"Accuracy/Validation\", val_accuracy, epoch)\n",
    "\n",
    "        print(\n",
    "            f\"Epoch {epoch + 1}/{epochs}, Train Loss: {avg_train_loss:.4f}, \"\n",
    "            f\"Validation Loss: {val_loss:.4f}, Validation Accuracy: {val_accuracy:.4f}\"\n",
    "        )"
   ],
   "metadata": {
    "id": "j2MEznpEp1rL"
   },
   "execution_count": 53,
   "outputs": []
  },
  {
   "cell_type": "code",
   "execution_count": 54,
   "outputs": [
    {
     "name": "stderr",
     "output_type": "stream",
     "text": [
      "/home/sus/Documents/ai_hub_itmo_image_hw1/venv/lib/python3.10/site-packages/torchvision/models/_utils.py:208: UserWarning: The parameter 'pretrained' is deprecated since 0.13 and may be removed in the future, please use 'weights' instead.\n",
      "  warnings.warn(\n",
      "/home/sus/Documents/ai_hub_itmo_image_hw1/venv/lib/python3.10/site-packages/torchvision/models/_utils.py:223: UserWarning: Arguments other than a weight enum or `None` for 'weights' are deprecated since 0.13 and may be removed in the future. The current behavior is equivalent to passing `weights=None`.\n",
      "  warnings.warn(msg)\n"
     ]
    },
    {
     "name": "stdout",
     "output_type": "stream",
     "text": [
      "Training Teacher Model...\n"
     ]
    },
    {
     "name": "stderr",
     "output_type": "stream",
     "text": [
      " 10%|█         | 1/10 [00:12<01:56, 12.98s/it]"
     ]
    },
    {
     "name": "stdout",
     "output_type": "stream",
     "text": [
      "Epoch 1/10, Loss: 1.4371\n"
     ]
    },
    {
     "name": "stderr",
     "output_type": "stream",
     "text": [
      " 20%|██        | 2/10 [00:25<01:42, 12.86s/it]"
     ]
    },
    {
     "name": "stdout",
     "output_type": "stream",
     "text": [
      "Epoch 2/10, Loss: 1.0266\n"
     ]
    },
    {
     "name": "stderr",
     "output_type": "stream",
     "text": [
      " 30%|███       | 3/10 [00:38<01:29, 12.81s/it]"
     ]
    },
    {
     "name": "stdout",
     "output_type": "stream",
     "text": [
      "Epoch 3/10, Loss: 0.8436\n"
     ]
    },
    {
     "name": "stderr",
     "output_type": "stream",
     "text": [
      " 40%|████      | 4/10 [00:51<01:16, 12.81s/it]"
     ]
    },
    {
     "name": "stdout",
     "output_type": "stream",
     "text": [
      "Epoch 4/10, Loss: 0.7133\n"
     ]
    },
    {
     "name": "stderr",
     "output_type": "stream",
     "text": [
      " 50%|█████     | 5/10 [01:05<01:05, 13.14s/it]"
     ]
    },
    {
     "name": "stdout",
     "output_type": "stream",
     "text": [
      "Epoch 5/10, Loss: 0.6078\n"
     ]
    },
    {
     "name": "stderr",
     "output_type": "stream",
     "text": [
      " 60%|██████    | 6/10 [01:18<00:52, 13.15s/it]"
     ]
    },
    {
     "name": "stdout",
     "output_type": "stream",
     "text": [
      "Epoch 6/10, Loss: 0.5090\n"
     ]
    },
    {
     "name": "stderr",
     "output_type": "stream",
     "text": [
      " 70%|███████   | 7/10 [01:30<00:39, 13.00s/it]"
     ]
    },
    {
     "name": "stdout",
     "output_type": "stream",
     "text": [
      "Epoch 7/10, Loss: 0.4174\n"
     ]
    },
    {
     "name": "stderr",
     "output_type": "stream",
     "text": [
      " 80%|████████  | 8/10 [01:43<00:25, 13.00s/it]"
     ]
    },
    {
     "name": "stdout",
     "output_type": "stream",
     "text": [
      "Epoch 8/10, Loss: 0.3360\n"
     ]
    },
    {
     "name": "stderr",
     "output_type": "stream",
     "text": [
      " 90%|█████████ | 9/10 [01:57<00:13, 13.33s/it]"
     ]
    },
    {
     "name": "stdout",
     "output_type": "stream",
     "text": [
      "Epoch 9/10, Loss: 0.2687\n"
     ]
    },
    {
     "name": "stderr",
     "output_type": "stream",
     "text": [
      "100%|██████████| 10/10 [02:10<00:00, 13.07s/it]"
     ]
    },
    {
     "name": "stdout",
     "output_type": "stream",
     "text": [
      "Epoch 10/10, Loss: 0.2183\n"
     ]
    },
    {
     "name": "stderr",
     "output_type": "stream",
     "text": [
      "\n"
     ]
    }
   ],
   "source": [
    "teacher = TeacherModel().to(device)\n",
    "student = StudentModel().to(device)\n",
    "\n",
    "teacher_criterion = nn.CrossEntropyLoss()\n",
    "teacher_optimizer = optim.Adam(teacher.parameters(), lr=0.001)\n",
    "print(\"Training Teacher Model...\")\n",
    "train_model(teacher, trainloader, teacher_criterion, teacher_optimizer, device, epochs=10)"
   ],
   "metadata": {
    "collapsed": false
   }
  },
  {
   "cell_type": "code",
   "source": [
    "student_criterion = nn.CrossEntropyLoss()\n",
    "student_optimizer = optim.Adam(student.parameters(), lr=0.001)\n",
    "\n",
    "print(\"Training Student Model with Cosine Loss...\")\n",
    "cosine_loss = nn.CosineEmbeddingLoss()\n",
    "train_with_cosine_loss(teacher, student, trainloader, student_criterion, cosine_loss, student_optimizer, device, epochs=10)"
   ],
   "metadata": {
    "id": "2u8LgEKVqPOE"
   },
   "execution_count": 55,
   "outputs": [
    {
     "name": "stdout",
     "output_type": "stream",
     "text": [
      "Training Student Model with Cosine Loss...\n",
      "Epoch 1/10, Train Loss: 1.9819, Validation Loss: 1.1471, Validation Accuracy: 0.5765\n",
      "Epoch 2/10, Train Loss: 1.6064, Validation Loss: 0.9808, Validation Accuracy: 0.6497\n",
      "Epoch 3/10, Train Loss: 1.4535, Validation Loss: 0.9071, Validation Accuracy: 0.6829\n",
      "Epoch 4/10, Train Loss: 1.3475, Validation Loss: 0.8821, Validation Accuracy: 0.6967\n",
      "Epoch 5/10, Train Loss: 1.2646, Validation Loss: 0.8154, Validation Accuracy: 0.7183\n",
      "Epoch 6/10, Train Loss: 1.1839, Validation Loss: 0.8830, Validation Accuracy: 0.7037\n",
      "Epoch 7/10, Train Loss: 1.1150, Validation Loss: 0.8512, Validation Accuracy: 0.7164\n",
      "Epoch 8/10, Train Loss: 1.0492, Validation Loss: 0.9302, Validation Accuracy: 0.7024\n",
      "Epoch 9/10, Train Loss: 0.9858, Validation Loss: 0.9960, Validation Accuracy: 0.7083\n",
      "Epoch 10/10, Train Loss: 0.9321, Validation Loss: 0.9929, Validation Accuracy: 0.7108\n"
     ]
    }
   ]
  },
  {
   "cell_type": "markdown",
   "source": [
    "# ЭКСПЕРИМЕНТ 3"
   ],
   "metadata": {
    "id": "P3iQA-nsqSvr"
   }
  },
  {
   "cell_type": "code",
   "source": [
    "def train_with_regressor(teacher, student, trainloader, criterion, mse_loss, optimizer, device, epochs=10, log_dir=\"./runs/exp3\"):\n",
    "    writer = SummaryWriter(log_dir)\n",
    "    teacher.eval()\n",
    "\n",
    "    regressor = nn.Conv2d(64, 512, kernel_size=1).to(device)\n",
    "    regressor_optimizer = optim.Adam(regressor.parameters(), lr=0.001)\n",
    "\n",
    "    for epoch in range(epochs):\n",
    "        student.train()\n",
    "        regressor.train()\n",
    "        running_loss = 0.0\n",
    "\n",
    "        for inputs, labels in trainloader:\n",
    "            inputs, labels = inputs.to(device), labels.to(device)\n",
    "\n",
    "            with torch.no_grad():\n",
    "                teacher_features = teacher.model.layer4(\n",
    "                    teacher.model.layer3(\n",
    "                        teacher.model.layer2(\n",
    "                            teacher.model.layer1(\n",
    "                                teacher.model.conv1(inputs)\n",
    "                            )\n",
    "                        )\n",
    "                    )\n",
    "                )\n",
    "\n",
    "            student_features = student.relu(student.pool(\n",
    "                student.conv2(\n",
    "                    student.relu(student.pool(student.conv1(inputs)))\n",
    "                )\n",
    "            ))\n",
    "\n",
    "            if teacher_features.size(2) != student_features.size(2) or teacher_features.size(3) != student_features.size(3):\n",
    "                teacher_features = nn.AdaptiveAvgPool2d((student_features.size(2), student_features.size(3)))(teacher_features)\n",
    "\n",
    "            regressed_features = regressor(student_features)\n",
    "\n",
    "            ce_loss = criterion(student(inputs), labels)\n",
    "\n",
    "            hidden_loss = mse_loss(regressed_features, teacher_features)\n",
    "\n",
    "            loss = ce_loss + hidden_loss\n",
    "\n",
    "            optimizer.zero_grad()\n",
    "            regressor_optimizer.zero_grad()\n",
    "            loss.backward()\n",
    "            optimizer.step()\n",
    "            regressor_optimizer.step()\n",
    "\n",
    "            running_loss += loss.item()\n",
    "\n",
    "        avg_train_loss = running_loss / len(trainloader)\n",
    "\n",
    "        val_loss, val_accuracy = evaluate_model(student, testloader, criterion, device)\n",
    "\n",
    "        writer.add_scalar(\"Loss/Train\", avg_train_loss, epoch)\n",
    "        writer.add_scalar(\"Loss/Validation\", val_loss, epoch)\n",
    "        writer.add_scalar(\"Accuracy/Validation\", val_accuracy, epoch)\n",
    "\n",
    "        print(\n",
    "            f\"Epoch {epoch + 1}/{epochs}, Train Loss: {avg_train_loss:.4f}, \"\n",
    "            f\"Validation Loss: {val_loss:.4f}, Validation Accuracy: {val_accuracy:.4f}\"\n",
    "        )"
   ],
   "metadata": {
    "id": "89vdOlp-qULv"
   },
   "execution_count": 56,
   "outputs": []
  },
  {
   "cell_type": "code",
   "execution_count": 57,
   "outputs": [
    {
     "name": "stderr",
     "output_type": "stream",
     "text": [
      "/home/sus/Documents/ai_hub_itmo_image_hw1/venv/lib/python3.10/site-packages/torchvision/models/_utils.py:208: UserWarning: The parameter 'pretrained' is deprecated since 0.13 and may be removed in the future, please use 'weights' instead.\n",
      "  warnings.warn(\n",
      "/home/sus/Documents/ai_hub_itmo_image_hw1/venv/lib/python3.10/site-packages/torchvision/models/_utils.py:223: UserWarning: Arguments other than a weight enum or `None` for 'weights' are deprecated since 0.13 and may be removed in the future. The current behavior is equivalent to passing `weights=None`.\n",
      "  warnings.warn(msg)\n"
     ]
    },
    {
     "name": "stdout",
     "output_type": "stream",
     "text": [
      "Training Teacher Model...\n"
     ]
    },
    {
     "name": "stderr",
     "output_type": "stream",
     "text": [
      " 10%|█         | 1/10 [00:13<01:57, 13.06s/it]"
     ]
    },
    {
     "name": "stdout",
     "output_type": "stream",
     "text": [
      "Epoch 1/10, Loss: 1.4172\n"
     ]
    },
    {
     "name": "stderr",
     "output_type": "stream",
     "text": [
      " 20%|██        | 2/10 [00:25<01:42, 12.76s/it]"
     ]
    },
    {
     "name": "stdout",
     "output_type": "stream",
     "text": [
      "Epoch 2/10, Loss: 1.0109\n"
     ]
    },
    {
     "name": "stderr",
     "output_type": "stream",
     "text": [
      " 30%|███       | 3/10 [00:38<01:29, 12.75s/it]"
     ]
    },
    {
     "name": "stdout",
     "output_type": "stream",
     "text": [
      "Epoch 3/10, Loss: 0.8339\n"
     ]
    },
    {
     "name": "stderr",
     "output_type": "stream",
     "text": [
      " 40%|████      | 4/10 [00:51<01:16, 12.82s/it]"
     ]
    },
    {
     "name": "stdout",
     "output_type": "stream",
     "text": [
      "Epoch 4/10, Loss: 0.6987\n"
     ]
    },
    {
     "name": "stderr",
     "output_type": "stream",
     "text": [
      " 50%|█████     | 5/10 [01:04<01:04, 12.81s/it]"
     ]
    },
    {
     "name": "stdout",
     "output_type": "stream",
     "text": [
      "Epoch 5/10, Loss: 0.5941\n"
     ]
    },
    {
     "name": "stderr",
     "output_type": "stream",
     "text": [
      " 60%|██████    | 6/10 [01:16<00:51, 12.79s/it]"
     ]
    },
    {
     "name": "stdout",
     "output_type": "stream",
     "text": [
      "Epoch 6/10, Loss: 0.4978\n"
     ]
    },
    {
     "name": "stderr",
     "output_type": "stream",
     "text": [
      " 70%|███████   | 7/10 [01:29<00:38, 12.90s/it]"
     ]
    },
    {
     "name": "stdout",
     "output_type": "stream",
     "text": [
      "Epoch 7/10, Loss: 0.4146\n"
     ]
    },
    {
     "name": "stderr",
     "output_type": "stream",
     "text": [
      " 80%|████████  | 8/10 [01:42<00:25, 12.80s/it]"
     ]
    },
    {
     "name": "stdout",
     "output_type": "stream",
     "text": [
      "Epoch 8/10, Loss: 0.3324\n"
     ]
    },
    {
     "name": "stderr",
     "output_type": "stream",
     "text": [
      " 90%|█████████ | 9/10 [01:55<00:12, 12.71s/it]"
     ]
    },
    {
     "name": "stdout",
     "output_type": "stream",
     "text": [
      "Epoch 9/10, Loss: 0.2644\n"
     ]
    },
    {
     "name": "stderr",
     "output_type": "stream",
     "text": [
      "100%|██████████| 10/10 [02:08<00:00, 12.82s/it]"
     ]
    },
    {
     "name": "stdout",
     "output_type": "stream",
     "text": [
      "Epoch 10/10, Loss: 0.2158\n"
     ]
    },
    {
     "name": "stderr",
     "output_type": "stream",
     "text": [
      "\n"
     ]
    }
   ],
   "source": [
    "teacher = TeacherModel().to(device)\n",
    "student = StudentModel().to(device)\n",
    "\n",
    "teacher_criterion = nn.CrossEntropyLoss()\n",
    "teacher_optimizer = optim.Adam(teacher.parameters(), lr=0.001)\n",
    "print(\"Training Teacher Model...\")\n",
    "train_model(teacher, trainloader, teacher_criterion, teacher_optimizer, device, epochs=10)"
   ],
   "metadata": {
    "collapsed": false
   }
  },
  {
   "cell_type": "code",
   "source": [
    "student_criterion = nn.CrossEntropyLoss()\n",
    "mse_loss = nn.MSELoss()\n",
    "student_optimizer = optim.Adam(student.parameters(), lr=0.001)\n",
    "\n",
    "print(\"Training Student Model with Regressor...\")\n",
    "train_with_regressor(\n",
    "    teacher, student, trainloader, student_criterion, mse_loss, student_optimizer, device, epochs=10\n",
    ")"
   ],
   "metadata": {
    "id": "-odtY2KIusrR"
   },
   "execution_count": 58,
   "outputs": [
    {
     "name": "stdout",
     "output_type": "stream",
     "text": [
      "Training Student Model with Regressor...\n",
      "Epoch 1/10, Train Loss: 1.3471, Validation Loss: 1.0079, Validation Accuracy: 0.6395\n",
      "Epoch 2/10, Train Loss: 0.9625, Validation Loss: 0.9053, Validation Accuracy: 0.6866\n",
      "Epoch 3/10, Train Loss: 0.7890, Validation Loss: 0.8150, Validation Accuracy: 0.7162\n",
      "Epoch 4/10, Train Loss: 0.6452, Validation Loss: 0.8354, Validation Accuracy: 0.7239\n",
      "Epoch 5/10, Train Loss: 0.5129, Validation Loss: 0.8898, Validation Accuracy: 0.7235\n",
      "Epoch 6/10, Train Loss: 0.3921, Validation Loss: 1.0061, Validation Accuracy: 0.7191\n",
      "Epoch 7/10, Train Loss: 0.2994, Validation Loss: 1.1459, Validation Accuracy: 0.7090\n",
      "Epoch 8/10, Train Loss: 0.2378, Validation Loss: 1.2434, Validation Accuracy: 0.7164\n",
      "Epoch 9/10, Train Loss: 0.1989, Validation Loss: 1.4707, Validation Accuracy: 0.7119\n",
      "Epoch 10/10, Train Loss: 0.1788, Validation Loss: 1.5773, Validation Accuracy: 0.7079\n"
     ]
    }
   ]
  },
  {
   "cell_type": "code",
   "execution_count": null,
   "outputs": [],
   "source": [],
   "metadata": {
    "collapsed": false
   }
  }
 ]
}
